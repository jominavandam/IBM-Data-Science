{
 "cells": [
  {
   "cell_type": "markdown",
   "id": "6a9d7735-8087-4024-b9fe-ebedb6c3d518",
   "metadata": {},
   "source": [
    "# Data Science Tools and Ecosystem"
   ]
  },
  {
   "cell_type": "markdown",
   "id": "3407a27e-3fe6-4d32-b26d-61287fc6da44",
   "metadata": {},
   "source": [
    "In this notebook, Data Science Tools and Ecosystem are summarized. "
   ]
  },
  {
   "cell_type": "markdown",
   "id": "57b30c29-800d-4e08-9b58-76bc84cc25ac",
   "metadata": {},
   "source": [
    "Some of the popular languages that Data Scientists use are:\n",
    "1. Python\n",
    "2. R\n",
    "3. SQL"
   ]
  },
  {
   "cell_type": "markdown",
   "id": "9f6767ef-95e4-4061-933d-1c16d418296a",
   "metadata": {},
   "source": [
    "Some of the commonly used libraries used by Data Scientists include:\n",
    "1. NumPy\n",
    "2. Scikit\n",
    "3. Matplotlib\n",
    "4. Keras\n",
    "5. Seaborn\n",
    "6. GGplot2\n",
    "7. TensorFlow\n",
    "8. SciPy\n",
    "9. Pandas"
   ]
  },
  {
   "cell_type": "markdown",
   "id": "174191ef-dfd4-4963-b422-afb15b95b562",
   "metadata": {},
   "source": [
    "|Data Science Tools|\n",
    "|------|\n",
    "|Apache SparkSQL|\n",
    "|TensorFlow|\n",
    "|MongoDB|\n"
   ]
  },
  {
   "cell_type": "markdown",
   "id": "0789fe41-0ff4-4813-a6f8-ace7d3cad6ca",
   "metadata": {},
   "source": [
    "### Below are a few examples of evaluating arithmetic expressions in Python"
   ]
  },
  {
   "cell_type": "code",
   "execution_count": 1,
   "id": "23f495df-cfa9-4035-9d94-3083c28be1ca",
   "metadata": {},
   "outputs": [
    {
     "data": {
      "text/plain": [
       "17"
      ]
     },
     "execution_count": 1,
     "metadata": {},
     "output_type": "execute_result"
    }
   ],
   "source": [
    "# This a simple arithmetic expression to mutiply then add integers\n",
    "(3*4)+5"
   ]
  },
  {
   "cell_type": "code",
   "execution_count": 2,
   "id": "0ece3b63-d08d-4893-94db-79b63a4e6d62",
   "metadata": {},
   "outputs": [
    {
     "data": {
      "text/plain": [
       "3.3333333333333335"
      ]
     },
     "execution_count": 2,
     "metadata": {},
     "output_type": "execute_result"
    }
   ],
   "source": [
    "# This will convert 200 minutes to hours by diving by 60\n",
    "200/60"
   ]
  },
  {
   "cell_type": "markdown",
   "id": "4c740d23-1b38-4ecf-9e59-686b47fd862e",
   "metadata": {},
   "source": [
    "**Objectives:**\n",
    "  \n",
    "* List popular languages for Data Science\n",
    "* Insert a Markdown cell\n",
    "* Insert a code cell\n",
    "* Make an ordered list\n",
    "* Make an unordered list"
   ]
  },
  {
   "cell_type": "markdown",
   "id": "0c21da10-d5e3-4429-9d3f-ec2e3be2910d",
   "metadata": {},
   "source": [
    "## Author\n",
    "WJ van Dam"
   ]
  },
  {
   "cell_type": "code",
   "execution_count": null,
   "id": "10517f4d-3862-42b0-af4d-2b856e132645",
   "metadata": {},
   "outputs": [],
   "source": []
  }
 ],
 "metadata": {
  "kernelspec": {
   "display_name": "Python [conda env:base] *",
   "language": "python",
   "name": "conda-base-py"
  },
  "language_info": {
   "codemirror_mode": {
    "name": "ipython",
    "version": 3
   },
   "file_extension": ".py",
   "mimetype": "text/x-python",
   "name": "python",
   "nbconvert_exporter": "python",
   "pygments_lexer": "ipython3",
   "version": "3.13.5"
  }
 },
 "nbformat": 4,
 "nbformat_minor": 5
}
